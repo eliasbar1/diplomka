{
 "cells": [
  {
   "cell_type": "markdown",
   "id": "21c5a99c",
   "metadata": {},
   "source": [
    "## Importy"
   ]
  },
  {
   "cell_type": "code",
   "execution_count": null,
   "id": "c4e41147",
   "metadata": {
    "ExecuteTime": {
     "end_time": "2023-05-01T14:27:51.360899Z",
     "start_time": "2023-05-01T14:27:51.351174Z"
    },
    "scrolled": false
   },
   "outputs": [],
   "source": [
    "import tensorflow_hub as hub\n",
    "import tensorflow_text as TF_text\n",
    "from keras.models import Model\n",
    "\n",
    "from ImageEmbedding import ImageEmbedding\n",
    "from ModelDataPreparator import ModelDataPreparator\n",
    "from ImageTextEmbeddingModelFusion import ImageTextEmbeddingModelFusion\n",
    "\n",
    "IMG_SIZE = 512\n",
    "SAVED_DATA='data/saved/'"
   ]
  },
  {
   "cell_type": "markdown",
   "id": "69946182",
   "metadata": {},
   "source": [
    "### Příprava dat\n",
    "\n",
    "Pro každou šifru, pro kterou jsou k dispozici obrazová i týmová data vezmeme všechny týmy, které ji dokončily a vytvoříme z nich vstupní data sítě.\n",
    "Data jsou převedena do numpy.arrays a rozdělena na trénovací a testovací sadu.\n",
    "\n",
    "Datasety lze buď znovu vytvořit, nebo načíst z uložených."
   ]
  },
  {
   "cell_type": "markdown",
   "id": "8eaeccb3",
   "metadata": {},
   "source": [
    "## Vytvoření datové sady"
   ]
  },
  {
   "cell_type": "code",
   "execution_count": null,
   "id": "590448ec",
   "metadata": {
    "ExecuteTime": {
     "end_time": "2022-11-08T17:02:17.445909Z",
     "start_time": "2022-11-08T17:02:17.281781Z"
    },
    "scrolled": true
   },
   "outputs": [],
   "source": [
    "my_prep=ModelDataPreparator()\n",
    "\n",
    "# načtení modelu pro klasifikaci obrázků a extrakce předposlední vrstvy, jejíž výstup chceme použít \n",
    "checkpoint_path='data/checkpoints/obtiznost/cp.ckpt'\n",
    "im_model=ImageTextEmbeddingModelFusion('roberta', IMG_SIZE, True)\n",
    "im_model.set_checkpoint_path(checkpoint_path)\n",
    "im_model.load_weights()\n",
    "\n",
    "embedding_model=ImageEmbedding()\n",
    "\n",
    "layer_names=[layer.name for layer in im_model.model.layers]\n",
    "intermediate_layer_model = Model(inputs=im_model.model.input,\n",
    "                                 outputs=im_model.model.get_layer(layer_names[-2]).output)\n",
    "\n",
    "source_dir='/train'\n",
    "tr_st, tr_trl, tr_task, tr_lay, tr_h, tr_leg, tr_names=my_prep.create_datasets_from_folder(source_dir, intermediate_layer_model, embedding_model, resample=False)\n",
    "\n",
    "source_dir='/val'\n",
    "val_st, val_trl, val_task, val_lay, val_h, val_leg, val_names=my_prep.create_datasets_from_folder(source_dir, intermediate_layer_model, embedding_model)"
   ]
  },
  {
   "cell_type": "markdown",
   "id": "8a15ba70",
   "metadata": {},
   "source": [
    "### Převod dat na tensory"
   ]
  },
  {
   "cell_type": "code",
   "execution_count": null,
   "id": "97f1340a",
   "metadata": {
    "ExecuteTime": {
     "end_time": "2022-11-08T17:02:22.691857Z",
     "start_time": "2022-11-08T17:02:21.985084Z"
    }
   },
   "outputs": [],
   "source": [
    "tr_st=tf.convert_to_tensor(tr_st)\n",
    "val_st=tf.convert_to_tensor(val_st)\n",
    "\n",
    "trl_max=tr_trl.max()+1\n",
    "tr_trl=tf.one_hot(tr_trl,trl_max)\n",
    "val_trl=tf.one_hot(val_trl,trl_max)\n",
    "\n",
    "task_max=tr_task.max()\n",
    "tr_task=tf.one_hot(tr_task,task_max)\n",
    "val_task=tf.one_hot(val_task,task_max)\n",
    "\n",
    "tr_lay=tf.convert_to_tensor(tr_lay)\n",
    "val_lay=tf.convert_to_tensor(val_lay)\n",
    "\n",
    "tr_h_tf=tf.one_hot(tr_h, 2)\n",
    "val_h_tf=tf.one_hot(val_h, 2)"
   ]
  },
  {
   "cell_type": "markdown",
   "id": "0fd1f000",
   "metadata": {},
   "source": [
    "## Uložení datasetů"
   ]
  },
  {
   "cell_type": "code",
   "execution_count": null,
   "id": "ea17a872",
   "metadata": {},
   "outputs": [],
   "source": [
    "if not os.path.exists(SAVED_DATA):\n",
    "    os.makedirs(SAVED_DATA) \n",
    "\n",
    "\n",
    "np.save(SAVED_DATA+\"tr_stats.npy\", tr_st)\n",
    "np.save(SAVED_DATA+\"val_stats.npy\", val_st)\n",
    "np.save(SAVED_DATA+\"tr_trail.npy\", tr_trl)\n",
    "np.save(SAVED_DATA+\"val_trail.npy\", val_trl)\n",
    "np.save(SAVED_DATA+\"tr_task.npy\", tr_task)\n",
    "np.save(SAVED_DATA+\"val_task.npy\", val_task)\n",
    "np.save(SAVED_DATA+\"tr_layer.npy\", tr_lay)\n",
    "np.save(SAVED_DATA+\"val_layer.npy\", val_lay)\n",
    "np.save(SAVED_DATA+\"tr_hints.npy\", tr_h)\n",
    "np.save(SAVED_DATA+\"val_hints.npy\", val_h)\n",
    "np.save(SAVED_DATA+\"tr_legends.npy\", tr_leg)\n",
    "np.save(SAVED_DATA+\"val_legends.npy\", val_leg)"
   ]
  }
 ],
 "metadata": {
  "kernelspec": {
   "display_name": "Python 3 (ipykernel)",
   "language": "python",
   "name": "python3"
  },
  "language_info": {
   "codemirror_mode": {
    "name": "ipython",
    "version": 3
   },
   "file_extension": ".py",
   "mimetype": "text/x-python",
   "name": "python",
   "nbconvert_exporter": "python",
   "pygments_lexer": "ipython3",
   "version": "3.8.15"
  }
 },
 "nbformat": 4,
 "nbformat_minor": 5
}
