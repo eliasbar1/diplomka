{
 "cells": [
  {
   "cell_type": "markdown",
   "id": "21c5a99c",
   "metadata": {},
   "source": [
    "## Importy"
   ]
  },
  {
   "cell_type": "code",
   "execution_count": null,
   "id": "c4e41147",
   "metadata": {
    "ExecuteTime": {
     "end_time": "2023-05-12T12:00:58.062120Z",
     "start_time": "2023-05-12T12:00:53.350351Z"
    },
    "scrolled": true
   },
   "outputs": [],
   "source": [
    "import os\n",
    "from PIL import Image\n",
    "import json\n",
    "import numpy as np\n",
    "\n",
    "from sklearn.model_selection import train_test_split\n",
    "from sklearn.metrics import confusion_matrix, ConfusionMatrixDisplay\n",
    "from sklearn.utils import class_weight\n",
    "import matplotlib.pyplot as plt\n",
    "\n",
    "from Trail import Trail\n",
    "from peak_computations import finished_cipher, get_team_time\n",
    "from ImageTextEmbeddingModelFusion import ImageTextEmbeddingModelFusion\n",
    "\n",
    "from HintModel import HintModel\n",
    "from RobeczechModel import RobeczechModel\n",
    "\n",
    "import tensorflow as tf\n",
    "from tensorflow.keras import layers, Input, optimizers\n",
    "import tensorflow_hub as hub\n",
    "import tensorflow_text as TF_text\n",
    "\n",
    "from keras.models import Model\n",
    "\n",
    "from transformers import AutoTokenizer, TFAutoModelForMaskedLM\n",
    "\n",
    "\n",
    "\n",
    "LEGENDS_DIR='data/legends'\n",
    "DATA_DIR='data/resized_images'\n",
    "TRAIN_TEST_DIR = 'data/output_resized'\n",
    "TRAIN_TEST_ORIGINALS_DIR = 'data/output'\n",
    "LABELS=['easy', 'hard']\n",
    "IMG_SIZE = 512\n",
    "\n",
    "SAVED_DATA='data/saved/'\n",
    "CHECKPOINT_PATH='data/checkpoints/'\n",
    "\n",
    "\n",
    "'''\n",
    "pokud bude na stavena True, bude ponecháno rozdělení na trénovací a testovací data\n",
    "jako bylo v modelu predikce obtížnosti, jinak se přerozdělí znovu\n",
    "'''\n",
    "KEEP_TRAIN_TEST=False"
   ]
  },
  {
   "cell_type": "markdown",
   "id": "cee6bc65",
   "metadata": {},
   "source": [
    "## Predikce nápověd"
   ]
  },
  {
   "cell_type": "code",
   "execution_count": null,
   "id": "a4f7aedc",
   "metadata": {
    "ExecuteTime": {
     "end_time": "2023-05-12T12:00:58.344390Z",
     "start_time": "2023-05-12T12:00:58.277106Z"
    }
   },
   "outputs": [],
   "source": [
    "def load_datasets():\n",
    "    tr_st=np.load(SAVED_DATA+\"tr_stats.npy\")\n",
    "    val_st=np.load(SAVED_DATA+\"val_stats.npy\")\n",
    "    tr_trl=np.load(SAVED_DATA+\"tr_trail.npy\")\n",
    "    val_trl=np.load(SAVED_DATA+\"val_trail.npy\")\n",
    "    tr_task=np.load(SAVED_DATA+\"tr_task.npy\")\n",
    "    val_task=np.load(SAVED_DATA+\"val_task.npy\")    \n",
    "    tr_lay=np.load(SAVED_DATA+\"tr_layer.npy\")\n",
    "    val_lay=np.load(SAVED_DATA+\"val_layer.npy\")    \n",
    "    tr_h=np.load(SAVED_DATA+\"tr_hints.npy\") \n",
    "    val_h=np.load(SAVED_DATA+\"val_hints.npy\")     \n",
    "    tr_leg=np.load(SAVED_DATA+\"tr_legends.npy\") \n",
    "    val_leg=np.load(SAVED_DATA+\"val_legends.npy\") \n",
    "    tr_names=np.load(SAVED_DATA+\"tr_names.npy\")\n",
    "    val_names=np.load(SAVED_DATA+\"val_names.npy\")\n",
    "    return tr_st, val_st, tr_trl, val_trl, tr_task, val_task, tr_lay, val_lay, tr_leg, val_leg, tr_h, val_h, tr_names, val_names"
   ]
  },
  {
   "cell_type": "markdown",
   "id": "3a9ba310",
   "metadata": {},
   "source": [
    "## Matice záměn"
   ]
  },
  {
   "cell_type": "code",
   "execution_count": null,
   "id": "37e6090e",
   "metadata": {
    "ExecuteTime": {
     "end_time": "2023-05-12T12:00:58.374979Z",
     "start_time": "2023-05-12T12:00:58.347041Z"
    }
   },
   "outputs": [],
   "source": [
    "from sklearn.metrics import f1_score\n",
    "def make_confusion_matrix(target_y, predicted_y):\n",
    "    binary_predictions=np.around(predicted_y)\n",
    "    target_y = list(map(lambda x: x[1], target_y))\n",
    "    predicted_y = list(map(lambda x: x[1], binary_predictions))\n",
    "    \n",
    "    my_f1_score=f1_score(target_y, predicted_y)\n",
    "    print(\"F1 score: \" + str(my_f1_score))\n",
    "    labels = ['nevyužili', 'využili']\n",
    "    cm=confusion_matrix(target_y, predicted_y)\n",
    "    plot_confusion_matrix(cm, labels, title=\"\")"
   ]
  },
  {
   "cell_type": "code",
   "execution_count": null,
   "id": "d8b2d876",
   "metadata": {
    "ExecuteTime": {
     "end_time": "2023-05-12T12:00:58.413627Z",
     "start_time": "2023-05-12T12:00:58.376813Z"
    }
   },
   "outputs": [],
   "source": [
    "def plot_confusion_matrix(cm,\n",
    "                          target_names,\n",
    "                          title='Confusion matrix',\n",
    "                          cmap=None,\n",
    "                          normalize=False):\n",
    "    \"\"\"\n",
    "    given a sklearn confusion matrix (cm), make a nice plot\n",
    "\n",
    "    Arguments\n",
    "    ---------\n",
    "    cm:           confusion matrix from sklearn.metrics.confusion_matrix\n",
    "\n",
    "    target_names: given classification classes such as [0, 1, 2]\n",
    "                  the class names, for example: ['high', 'medium', 'low']\n",
    "\n",
    "    title:        the text to display at the top of the matrix\n",
    "\n",
    "    cmap:         the gradient of the values displayed from matplotlib.pyplot.cm\n",
    "                  see http://matplotlib.org/examples/color/colormaps_reference.html\n",
    "                  plt.get_cmap('jet') or plt.cm.Blues\n",
    "\n",
    "    normalize:    If False, plot the raw numbers\n",
    "                  If True, plot the proportions\n",
    "\n",
    "    Usage\n",
    "    -----\n",
    "    plot_confusion_matrix(cm           = cm,                  # confusion matrix created by\n",
    "                                                              # sklearn.metrics.confusion_matrix\n",
    "                          normalize    = True,                # show proportions\n",
    "                          target_names = y_labels_vals,       # list of names of the classes\n",
    "                          title        = best_estimator_name) # title of graph\n",
    "\n",
    "    Citiation\n",
    "    ---------\n",
    "    http://scikit-learn.org/stable/auto_examples/model_selection/plot_confusion_matrix.html\n",
    "\n",
    "    \"\"\"\n",
    "    import matplotlib.pyplot as plt\n",
    "    import numpy as np\n",
    "    import itertools\n",
    "\n",
    "    accuracy = np.trace(cm) / np.sum(cm).astype('float')\n",
    "    misclass = 1 - accuracy\n",
    "\n",
    "    if cmap is None:\n",
    "        cmap = plt.get_cmap('Blues')\n",
    "\n",
    "    plt.rcParams.update({'font.size': 18})\n",
    "    plt.figure(figsize=(8, 6))\n",
    "    cax=plt.imshow(cm, interpolation='nearest', cmap=cmap)\n",
    "    plt.title(title)\n",
    "    plt.colorbar()\n",
    "    \n",
    "\n",
    "    if target_names is not None:\n",
    "        tick_marks = np.arange(len(target_names))\n",
    "        plt.xticks(tick_marks, target_names, rotation=45)\n",
    "        plt.yticks(tick_marks, target_names)\n",
    "\n",
    "    if normalize:\n",
    "        cm = cm.astype('float') / cm.sum(axis=1)[:, np.newaxis]\n",
    "\n",
    "\n",
    "    thresh = cm.max() / 1.5 if normalize else cm.max() / 2\n",
    "    for i, j in itertools.product(range(cm.shape[0]), range(cm.shape[1])):\n",
    "        if normalize:\n",
    "            plt.text(j, i, \"{:0.4f}\".format(cm[i, j]),\n",
    "                     horizontalalignment=\"center\",\n",
    "                     color=\"white\" if cm[i, j] > thresh else \"black\")\n",
    "        else:\n",
    "            plt.text(j, i, \"{:,}\".format(cm[i, j]),\n",
    "                     horizontalalignment=\"center\",\n",
    "                     color=\"white\" if cm[i, j] > thresh else \"black\")\n",
    "\n",
    "    plt.rcParams.update({'font.size': 18})\n",
    "    plt.tight_layout()\n",
    "    plt.ylabel('Reálné využití')\n",
    "    plt.xlabel('Predikované využití'.format(accuracy, misclass))\n",
    "    plt.show()"
   ]
  },
  {
   "cell_type": "markdown",
   "id": "8eaeccb3",
   "metadata": {},
   "source": [
    "## Načtení dat do proměnných"
   ]
  },
  {
   "cell_type": "code",
   "execution_count": null,
   "id": "590448ec",
   "metadata": {
    "ExecuteTime": {
     "end_time": "2023-05-12T12:01:00.449278Z",
     "start_time": "2023-05-12T12:00:58.498834Z"
    },
    "scrolled": false
   },
   "outputs": [],
   "source": [
    "tr_st, val_st, \\\n",
    "tr_trl, val_trl, \\\n",
    "tr_task, val_task, \\\n",
    "tr_lay, val_lay, \\\n",
    "tr_leg, val_leg, \\\n",
    "tr_h, val_h, \\\n",
    "tr_names, val_names=load_datasets()\n",
    "\n",
    "if not KEEP_TRAIN_TEST:\n",
    "    stats=np.concatenate((tr_st, val_st))\n",
    "    trl=np.concatenate((tr_trl, val_trl))\n",
    "    task=np.concatenate((tr_task, val_task))\n",
    "    lay=np.concatenate((tr_lay, val_lay))\n",
    "    leg=np.concatenate((tr_leg, val_leg))\n",
    "    h=np.concatenate((tr_h, val_h))\n",
    "    names=np.concatenate((tr_names, val_names))\n",
    "\n",
    "    tr_st, val_st, \\\n",
    "    tr_trl, val_trl, \\\n",
    "    tr_task, val_task, \\\n",
    "    tr_lay, val_lay, \\\n",
    "    tr_leg, val_leg, \\\n",
    "    tr_h, val_h, \\\n",
    "    tr_names, val_names= train_test_split(\n",
    "        stats, trl, task, lay, leg, h, names, test_size=0.33, random_state=42)"
   ]
  },
  {
   "cell_type": "markdown",
   "id": "f974966b",
   "metadata": {},
   "source": [
    "### Vyváženost dat"
   ]
  },
  {
   "cell_type": "code",
   "execution_count": null,
   "id": "abd5695d",
   "metadata": {
    "ExecuteTime": {
     "end_time": "2023-05-12T12:01:00.454436Z",
     "start_time": "2023-05-12T12:01:00.450992Z"
    }
   },
   "outputs": [],
   "source": [
    "# positive jsou 1\n",
    "tr_neg, tr_pos = np.bincount(tr_h)\n",
    "tr_total = tr_neg + tr_pos\n",
    "print('Training examples:\\n    Total: {}\\n    Positive: {} ({:.2f}% of total)\\n'.format(\n",
    "    tr_total, tr_pos, 100 * tr_pos / tr_total))\n",
    "initial_bias = np.log([tr_pos/tr_neg])\n",
    "\n",
    "val_neg, val_pos = np.bincount(val_h)\n",
    "val_total = val_neg + val_pos\n",
    "print('Validation examples:\\n    Total: {}\\n    Positive: {} ({:.2f}% of total)\\n'.format(\n",
    "    val_total, val_pos, 100 * val_pos / val_total))"
   ]
  },
  {
   "cell_type": "markdown",
   "id": "8a15ba70",
   "metadata": {},
   "source": [
    "### Vytvoření trénovací a testovací sady\n",
    "\n",
    "Legendy jsou zvlášť, protože každý jazykový model je zpracovává jinak."
   ]
  },
  {
   "cell_type": "code",
   "execution_count": null,
   "id": "62664ef3",
   "metadata": {
    "ExecuteTime": {
     "end_time": "2023-05-12T12:01:00.918614Z",
     "start_time": "2023-05-12T12:01:00.456662Z"
    }
   },
   "outputs": [],
   "source": [
    "tr_h_tf=tf.one_hot(tr_h, 2)\n",
    "val_h_tf=tf.one_hot(val_h, 2)\n",
    "x_train=[tr_st, tr_task, tr_trl, tr_lay]\n",
    "y_train=tr_h_tf\n",
    "\n",
    "x_val=[val_st, val_task, val_trl, val_lay]\n",
    "y_val=val_h_tf"
   ]
  },
  {
   "cell_type": "code",
   "execution_count": null,
   "id": "c2360ebf",
   "metadata": {
    "ExecuteTime": {
     "end_time": "2023-05-12T12:01:00.966077Z",
     "start_time": "2023-05-12T12:01:00.919688Z"
    }
   },
   "outputs": [],
   "source": [
    "class_weights = class_weight.compute_class_weight(class_weight='balanced', classes=np.unique(y_train), y=tr_h)\n"
   ]
  },
  {
   "cell_type": "code",
   "execution_count": null,
   "id": "f8fa6128",
   "metadata": {
    "ExecuteTime": {
     "end_time": "2023-05-12T12:01:01.001438Z",
     "start_time": "2023-05-12T12:01:00.967502Z"
    }
   },
   "outputs": [],
   "source": [
    "class_weights"
   ]
  },
  {
   "cell_type": "code",
   "execution_count": null,
   "id": "556e4355",
   "metadata": {
    "ExecuteTime": {
     "end_time": "2023-05-12T12:01:01.038100Z",
     "start_time": "2023-05-12T12:01:01.002612Z"
    }
   },
   "outputs": [],
   "source": [
    "CLASS_WEIGHTS={0:class_weights[0], 1:class_weights[1]}"
   ]
  },
  {
   "cell_type": "markdown",
   "id": "770b708f",
   "metadata": {},
   "source": [
    "### Model"
   ]
  },
  {
   "cell_type": "code",
   "execution_count": null,
   "id": "75230cc7",
   "metadata": {
    "ExecuteTime": {
     "end_time": "2023-05-12T12:01:01.090872Z",
     "start_time": "2023-05-12T12:01:01.039490Z"
    }
   },
   "outputs": [],
   "source": [
    "def get_checkpoint_path(chckpt):\n",
    "    return CHECKPOINT_PATH + chckpt + '/cp.ckpt'    "
   ]
  },
  {
   "cell_type": "code",
   "execution_count": null,
   "id": "c5d7f4a7",
   "metadata": {
    "ExecuteTime": {
     "end_time": "2023-05-12T12:01:01.135742Z",
     "start_time": "2023-05-12T12:01:01.092189Z"
    },
    "scrolled": false
   },
   "outputs": [],
   "source": [
    "def train_model(nn_model, lang_model, chckpt, x_train, y_train, x_val, y_val, tr_leg, val_leg, optimizer, batch_size, epochs, continue_previous=False, prev_chckpt='a'):    \n",
    "    chckpt_path=get_checkpoint_path(chckpt)    \n",
    "    if nn_model==0:\n",
    "        my_model=HintModel(lang_model, False, optimizer=optimizer)\n",
    "        my_x_train = x_train + [tr_leg]\n",
    "        my_x_val = x_val + [val_leg]\n",
    "    elif nn_model==1:\n",
    "        my_model=RobeczechModel(optimizer)\n",
    "        tr_ids, tr_mask, tr_segs=my_model.tokenize(tr_leg)\n",
    "        val_ids, val_mask, val_segs=my_model.tokenize(val_leg)\n",
    "        \n",
    "        my_x_train = x_train + [tr_ids, tr_mask]\n",
    "        my_x_val = x_val+ [val_ids, val_mask]\n",
    "\n",
    "    if continue_previous:\n",
    "        my_model.set_checkpoint_path(get_checkpoint_path(prev_chckpt))\n",
    "        my_model.load_weights()\n",
    "    my_history=my_model.train_model(my_x_train, y_train, my_x_val, y_val, chckpt_path, batch_size=batch_size, epochs=epochs, class_weights=CLASS_WEIGHTS)    \n",
    "    \n",
    "    return my_history"
   ]
  },
  {
   "cell_type": "code",
   "execution_count": null,
   "id": "ebd46d08",
   "metadata": {
    "ExecuteTime": {
     "end_time": "2023-05-12T12:01:01.169276Z",
     "start_time": "2023-05-12T12:01:01.137110Z"
    }
   },
   "outputs": [],
   "source": [
    "'''\n",
    "vzhledem k velikosti modelu a časové náročnosti výpočtu je vyhodnocen výsledek jen na validační sadě\n",
    "stejně tak lze přidat trénovací\n",
    "'''\n",
    "\n",
    "def eval_model(nn_model, lang_model, chckpt, x_train, y_train, x_val, y_val, tr_leg, val_leg):\n",
    "    \n",
    "    chckpt_path=get_checkpoint_path(chckpt)     \n",
    "    if nn_model==0:\n",
    "        my_model=HintModel(lang_model, False, optimizer='adam')\n",
    "        my_x_val = x_val + [val_leg]\n",
    "    elif nn_model==1:\n",
    "        my_model=RobeczechModel('adam')\n",
    "        val_ids, val_mask, val_segs=my_model.tokenize(val_leg)\n",
    "        my_x_val = x_val+ [val_ids, val_mask]\n",
    "    \n",
    "    my_model.set_checkpoint_path(chckpt_path)\n",
    "    \n",
    "    my_model.load_weights()\n",
    "    val_pred = my_model.model.predict(my_x_val)\n",
    "\n",
    "    print(\"--------- Val cf ----------\")\n",
    "    make_confusion_matrix(y_val, val_pred)\n",
    "\n",
    "    val_acc=my_model.model.evaluate(my_x_val, y_val, verbose=0)[1]\n",
    "\n",
    "    print(val_acc)\n",
    "    \n",
    "    return my_model, val_pred"
   ]
  },
  {
   "cell_type": "code",
   "execution_count": null,
   "id": "9675c246",
   "metadata": {
    "ExecuteTime": {
     "end_time": "2023-05-05T12:50:30.942150Z",
     "start_time": "2023-05-05T11:41:26.280465Z"
    }
   },
   "outputs": [],
   "source": [
    "'''\n",
    "učení modelu s jazykovým modelem RoBERTa, tu lze vyměnit za BERT, s parametrem lang_model='bert'\n",
    "'''\n",
    "opt = tf.keras.optimizers.Adam(learning_rate=0.00015)\n",
    "hist2=train_model(0, 'roberta', 'roberta_resampled_2', x_train, y_train, x_val, y_val, tr_leg, val_leg, opt, 1536, 30, continue_previous=True, prev_chckpt='roberta_resampled')"
   ]
  },
  {
   "cell_type": "code",
   "execution_count": null,
   "id": "a2678a01",
   "metadata": {
    "ExecuteTime": {
     "start_time": "2023-05-05T14:02:12.402Z"
    }
   },
   "outputs": [],
   "source": [
    "'''\n",
    "učení modelu s jazykovým modelem RobeCzech\n",
    "'''\n",
    "opt=tf.keras.optimizers.Adam(learning_rate=0.000005)\n",
    "hist=train_model(1, 'roberta', 'hint_robeczech_resampled', x_train, y_train, x_val, y_val, tr_leg, val_leg, opt, 1, 10, continue_previous=False, prev_chckpt='')"
   ]
  },
  {
   "cell_type": "markdown",
   "id": "d9df848a",
   "metadata": {},
   "source": [
    "### Vyhodnocení průběhu přesnosti během učení modelu"
   ]
  },
  {
   "cell_type": "code",
   "execution_count": null,
   "id": "1c37feb3",
   "metadata": {
    "ExecuteTime": {
     "end_time": "2023-05-05T20:54:54.665589Z",
     "start_time": "2023-05-05T20:54:54.497071Z"
    }
   },
   "outputs": [],
   "source": [
    "history=hist\n",
    "plt.plot(history.history['accuracy'])\n",
    "plt.plot(history.history['val_accuracy'])\n",
    "#plt.title('přesnost modelu')\n",
    "plt.ylabel('přesnost')\n",
    "plt.xlabel('epocha')\n",
    "plt.legend(['trénovací', 'validační'], loc='upper left')\n",
    "plt.show()\n",
    "# loss modelu\n",
    "plt.plot(history.history['loss'])\n",
    "plt.plot(history.history['val_loss'])\n",
    "plt.title('loss modelu')\n",
    "plt.ylabel('loss')\n",
    "plt.xlabel('epocha')\n",
    "plt.legend(['trénovací', 'validační'], loc='upper left')\n",
    "plt.show()"
   ]
  },
  {
   "cell_type": "markdown",
   "id": "70810e4e",
   "metadata": {},
   "source": [
    "### Vyhodnocení modelu s nejvyšší přesností"
   ]
  },
  {
   "cell_type": "code",
   "execution_count": null,
   "id": "9d2c06f4",
   "metadata": {
    "ExecuteTime": {
     "end_time": "2023-05-12T12:04:00.307608Z",
     "start_time": "2023-05-12T12:01:01.170570Z"
    },
    "scrolled": false
   },
   "outputs": [],
   "source": [
    "my_mod, val_pred=eval_model(0, 'roberta', 'roberta_resampled', x_train, y_train, x_val, y_val, tr_leg, val_leg)"
   ]
  }
 ],
 "metadata": {
  "kernelspec": {
   "display_name": "Python 3 (ipykernel)",
   "language": "python",
   "name": "python3"
  },
  "language_info": {
   "codemirror_mode": {
    "name": "ipython",
    "version": 3
   },
   "file_extension": ".py",
   "mimetype": "text/x-python",
   "name": "python",
   "nbconvert_exporter": "python",
   "pygments_lexer": "ipython3",
   "version": "3.8.15"
  }
 },
 "nbformat": 4,
 "nbformat_minor": 5
}
