{
 "cells": [
  {
   "cell_type": "code",
   "execution_count": null,
   "id": "48078c53",
   "metadata": {},
   "outputs": [],
   "source": [
    "import json\n",
    "import splitfolders\n",
    "\n",
    "from PIL import Image\n",
    "from pdf2image import convert_from_path\n",
    "import shutil\n",
    "import pathlib\n",
    "\n",
    "import os\n",
    "from os import listdir\n",
    "\n",
    "from Trail import Trail\n",
    "from image_preprocess import get_image_name, text_from_images_in_folder\n",
    "\n",
    "# zakladni umisteni dat: nevejdou se mi na disk, toto je adresa externího uloziste\n",
    "KNIHOVNIK='/Volumes/Documents/BAR/skola/diplomka/image_classification/data/'\n",
    "\n",
    "# sem se ukladaji resizovane obrazky\n",
    "DATA_DIR='./data/resized_images'\n",
    "\n",
    "# sem se ukladaji olabelovane obrazky\n",
    "SORTED_DIR=KNIHOVNIK + 'labeled_images'\n",
    "\n",
    "# sem train-test split rozhodi trenovaci a testovaci sadu\n",
    "TRAIN_TEST_DIR = 'data/output'\n",
    "\n",
    "#sifry vytahane z databanky rucne rozhozene na easy/hard\n",
    "COURSES_DIR = KNIHOVNIK+'sifry_z_databanky'\n",
    "\n",
    "#sifry vytahane z rocniku DNEM rucne rozhozene na easy/hard\n",
    "DNEM_DIR = KNIHOVNIK+'DNEM'\n",
    "\n",
    "TRAILS_DIR=KNIHOVNIK+'trails'\n",
    "\n",
    "#vsechny sifry v original velikosti pro lepsi extrakci textu\n",
    "ORIGINALS_DIR=KNIHOVNIK+'images'\n",
    "\n",
    "LABELS=['easy', 'hard']\n",
    "\n",
    "IMG_SIZE=512\n",
    "COUNTER = 0"
   ]
  },
  {
   "cell_type": "code",
   "execution_count": null,
   "id": "517d559f",
   "metadata": {},
   "outputs": [],
   "source": [
    "with open(\"data/trail_dict_shortcuts.json\") as f:\n",
    "    trail_dict=json.load(f)\n",
    "my_trails=dict()"
   ]
  },
  {
   "cell_type": "markdown",
   "id": "a7774203",
   "metadata": {},
   "source": [
    "## Image preprocessing"
   ]
  },
  {
   "cell_type": "code",
   "execution_count": null,
   "id": "18b7bfa2",
   "metadata": {},
   "outputs": [],
   "source": [
    "def get_label(img_name, threshold, print_table=False):\n",
    "    #get game name and task number    \n",
    "    my_name, _ =get_image_name(img_name)\n",
    "    my_split=my_name.split(\"_\")\n",
    "    trail_id=my_split[0]\n",
    "    task_no = int(my_split[1])\n",
    "    \n",
    "    if trail_id in my_trails:\n",
    "        trail = my_trails[trail_id]\n",
    "    else:    \n",
    "        trail_name=trail_dict[trail_id]\n",
    "        trail = Trail(trail_name)\n",
    "        if print_table:\n",
    "            print(\"\\\\hline\")\n",
    "            print(\"\\\\hline\")\n",
    "            print(\"\\multicolumn{4}{c}{hra \" + trail.name+\"}  \\\\\\\\ \\hline\")\n",
    "\n",
    "        my_peaks=trail.get_peaks()\n",
    "        my_trails[trail_id]=trail\n",
    "    \n",
    "    peaks = trail.get_peaks()\n",
    "    my_peak = peaks[task_no-1]\n",
    "    if my_peak > threshold:\n",
    "        label='hard'\n",
    "    else:\n",
    "        label='easy'\n",
    "           \n",
    "    if os.path.exists(TRAIN_TEST_DIR + '/val' + '/'+label+'/'+img_name):\n",
    "        sada = 'val'\n",
    "    else:\n",
    "        sada = 'train'\n",
    "    if print_table:\n",
    "        print(str(task_no) + ' & ' + str(round(my_peak/60, 1)) + ' & ' + label + ' & ' + sada + ' \\\\\\\\')\n",
    "    return label"
   ]
  },
  {
   "cell_type": "code",
   "execution_count": null,
   "id": "5c556660",
   "metadata": {},
   "outputs": [],
   "source": [
    "def resize_image(img_name, size, source_dir, threshold, print_table, counter=0, given_label='easy'):\n",
    "    img_path= source_dir + \"/\" +img_name\n",
    "    resized_path=DATA_DIR\n",
    "\n",
    "    if threshold == 0:\n",
    "        label=given_label\n",
    "    else:\n",
    "        label=get_label(img_name, threshold, print_table)\n",
    "\n",
    "    if not print_table:\n",
    "        label_path = resized_path+\"/\"+label  \n",
    "\n",
    "        if not os.path.exists(label_path):\n",
    "            os.makedirs(label_path)\n",
    "\n",
    "        image=Image.open(img_path)\n",
    "        resized_image=image.resize((size, size))\n",
    "        resized_image.save(label_path+\"/\"+img_name, \"PNG\")\n",
    "    \n",
    "    counter = counter+1\n",
    "    return counter"
   ]
  },
  {
   "cell_type": "code",
   "execution_count": null,
   "id": "92f37697",
   "metadata": {},
   "outputs": [],
   "source": [
    "def label_image(img_name, source_dir, threshold, print_table, counter=0, given_label='easy'):\n",
    "    img_path= source_dir + \"/\" +img_name\n",
    "    resized_path=SORTED_DIR\n",
    "\n",
    "    if threshold == 0:\n",
    "        label=given_label\n",
    "    else:\n",
    "        label=get_label(img_name, threshold, print_table)\n",
    "\n",
    "    if not print_table:\n",
    "        label_path = resized_path+\"/\"+label  \n",
    "\n",
    "        if not os.path.exists(label_path):\n",
    "            os.makedirs(label_path)\n",
    "\n",
    "        image=Image.open(img_path)\n",
    "        image.save(label_path+\"/\"+img_name, \"PNG\")\n",
    "    \n",
    "    counter = counter+1\n",
    "    return counter"
   ]
  },
  {
   "cell_type": "code",
   "execution_count": null,
   "id": "7836cd7d",
   "metadata": {},
   "outputs": [],
   "source": [
    "def convert_pdf_to_png(img_name, tmp_dir, source_dir, save_converted_image=True):\n",
    "    img_path=source_dir+'/'+img_name\n",
    "    if not os.path.exists(tmp_dir):\n",
    "        os.makedirs(tmp_dir)        \n",
    "        \n",
    "    # get rid of the .pdf\n",
    "    # and add new format\n",
    "    my_split=img_name.split(\".\")\n",
    "    new_image_name=my_split[0]+\".png\"\n",
    "    tmp_path=tmp_dir+'/'+new_image_name\n",
    "    \n",
    "    page = convert_from_path(img_path)\n",
    "    page[0].save(tmp_path, 'PNG')  \n",
    "    \n",
    "    if save_converted_image:\n",
    "        if not os.path.exists(ORIGINALS_DIR):\n",
    "            os.makedirs(ORIGINALS_DIR)\n",
    "        page[0].save(ORIGINALS_DIR+'/'+new_image_name, 'PNG')\n",
    "    \n",
    "    return new_image_name"
   ]
  },
  {
   "cell_type": "code",
   "execution_count": null,
   "id": "136aa972",
   "metadata": {},
   "outputs": [],
   "source": [
    "def process_imgs_with_label(my_source_dir, counter, print_table):\n",
    "    threshold = 0\n",
    "    for l in LABELS:\n",
    "        source_dir = my_source_dir + '/' + l\n",
    "        counter=sort_images(source_dir, l, threshold, counter, print_table)\n",
    "    return counter"
   ]
  },
  {
   "cell_type": "code",
   "execution_count": null,
   "id": "9d1d1255",
   "metadata": {},
   "outputs": [],
   "source": [
    "'''\n",
    "Take image, convert to pdf if necessary and label.\n",
    "'''\n",
    "def sort_images(source_dir, given_label, threshold=0, counter=0, print_table=False):\n",
    "    tmp_dir='tmp'\n",
    "    for image in sorted(os.listdir(source_dir)):\n",
    "        if (image.endswith(\".pdf\")):\n",
    "            new_image_name=convert_pdf_to_png(image, tmp_dir, source_dir)\n",
    "            counter = label_image(new_image_name, tmp_dir, threshold, print_table, counter, given_label)\n",
    "        elif(image.startswith(\".\")):\n",
    "            continue\n",
    "        else:\n",
    "            counter = label_image(image, source_dir, threshold, print_table, counter, given_label)\n",
    "    print(\"-------- counter: \" + str(counter) + \" ----------\")\n",
    "    return counter"
   ]
  },
  {
   "cell_type": "code",
   "execution_count": null,
   "id": "9481da8f",
   "metadata": {},
   "outputs": [],
   "source": [
    "'''\n",
    "Take image, convert to pdf if necessary, shrink to img_size x img_size and label.\n",
    "'''\n",
    "def process_images(img_size, source_dir, given_label, threshold=0, counter=0, print_table=False):\n",
    "    tmp_dir='tmp'\n",
    "    for image in sorted(os.listdir(source_dir)):\n",
    "        if (image.endswith(\".pdf\")):\n",
    "            new_image_name=convert_pdf_to_png(image, tmp_dir, source_dir)\n",
    "            counter = resize_image(new_image_name, img_size, tmp_dir, threshold, print_table, counter, given_label)\n",
    "        elif(image.startswith(\".\")):\n",
    "            continue\n",
    "        else:\n",
    "            counter = resize_image(image, img_size, source_dir, threshold, print_table, counter, given_label)\n",
    "    print(\"-------- counter: \" + str(counter) + \" ----------\")\n",
    "    return counter"
   ]
  },
  {
   "cell_type": "code",
   "execution_count": null,
   "id": "c0232da2",
   "metadata": {
    "scrolled": true
   },
   "outputs": [],
   "source": [
    "'''\n",
    "Go through all images in folder, convert to pdf if necessary, shrink to img_size x img_size and label.\n",
    "'''\n",
    "counter=0\n",
    "tmp_dir = 'tmp'\n",
    "print_table=False\n",
    "\n",
    "'''\n",
    "Works for trail images that have data from games and can be labeled automaticaly.\n",
    "'''\n",
    "# time limit for a task to be easy => 18 minutes\n",
    "threshold = 18*60\n",
    "given_label=None\n",
    "counter=sort_images(TRAILS_DIR, given_label, threshold, counter, print_table)\n",
    "\n",
    "'''\n",
    "Convert and resize manually labeled data\n",
    "'''\n",
    "counter=process_imgs_with_label(COURSES_DIR, counter, print_table)\n",
    "counter=process_imgs_with_label(DNEM_DIR, counter, print_table)\n",
    "        \n",
    "if os.path.exists(tmp_dir):\n",
    "    shutil.rmtree(tmp_dir)\n"
   ]
  },
  {
   "cell_type": "markdown",
   "id": "4aab0875",
   "metadata": {},
   "source": [
    "## Split folders to train/test"
   ]
  },
  {
   "cell_type": "code",
   "execution_count": null,
   "id": "b63fff83",
   "metadata": {},
   "outputs": [],
   "source": [
    "# splits into three folders, test folder is empty\n",
    "if os.path.exists(TRAIN_TEST_DIR):\n",
    "    shutil.rmtree(TRAIN_TEST_DIR)\n",
    "splitfolders.ratio(SORTED_DIR, output=TRAIN_TEST_DIR, ratio=(.8, 0.2))"
   ]
  },
  {
   "cell_type": "markdown",
   "id": "e475622b",
   "metadata": {},
   "source": [
    "## Convert all images to png"
   ]
  },
  {
   "cell_type": "code",
   "execution_count": null,
   "id": "19ed36bb",
   "metadata": {},
   "outputs": [],
   "source": [
    "source_dir=ORIGINALS_DIR\n",
    "for image in os.listdir(source_dir):\n",
    "    if (image.endswith(\".pdf\")):\n",
    "        new_image_name=convert_pdf_to_png(image, source_dir, source_dir)"
   ]
  },
  {
   "cell_type": "markdown",
   "id": "8bfaa7ee",
   "metadata": {},
   "source": [
    "## Extract text from images"
   ]
  },
  {
   "cell_type": "code",
   "execution_count": null,
   "id": "3fcb9ffb",
   "metadata": {
    "scrolled": true
   },
   "outputs": [],
   "source": [
    "import pytesseract\n",
    "from pytesseract import Output\n",
    "\n",
    "texts=dict()\n",
    "\n",
    "source_dir=ORIGINALS_DIR\n",
    "for image in os.listdir(source_dir):\n",
    "    my_name,_=get_image_name(image)    \n",
    "    img_path=source_dir+\"/\"+image\n",
    "    texts[my_name]=pytesseract.image_to_string(img_path)"
   ]
  },
  {
   "cell_type": "code",
   "execution_count": null,
   "id": "90661ca6",
   "metadata": {},
   "outputs": [],
   "source": [
    "filename='data/extracted_texts.json'\n",
    "with open(filename, \"w\") as outfile:\n",
    "    json.dump(texts, outfile)"
   ]
  }
 ],
 "metadata": {
  "kernelspec": {
   "display_name": "Python 3 (ipykernel)",
   "language": "python",
   "name": "python3"
  },
  "language_info": {
   "codemirror_mode": {
    "name": "ipython",
    "version": 3
   },
   "file_extension": ".py",
   "mimetype": "text/x-python",
   "name": "python",
   "nbconvert_exporter": "python",
   "pygments_lexer": "ipython3",
   "version": "3.8.15"
  }
 },
 "nbformat": 4,
 "nbformat_minor": 5
}
