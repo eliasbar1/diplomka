{
 "cells": [
  {
   "cell_type": "markdown",
   "id": "b9c85da3",
   "metadata": {},
   "source": [
    "## Setup"
   ]
  },
  {
   "cell_type": "code",
   "execution_count": null,
   "id": "9674b85b",
   "metadata": {},
   "outputs": [],
   "source": [
    "import numpy as np\n",
    "import pathlib\n",
    "import pandas as pd\n",
    "\n",
    "import os\n",
    "from os import listdir\n",
    "import json\n",
    "from PIL import Image\n",
    "\n",
    "import tensorflow as tf\n",
    "import tensorflow_hub as hub\n",
    "import tensorflow_text as TF_text\n",
    "from tensorflow.keras import layers\n",
    "\n",
    "import matplotlib.pyplot as plt\n",
    "from sklearn.metrics import confusion_matrix, ConfusionMatrixDisplay, precision_recall_curve, auc\n",
    "\n",
    "\n",
    "from ImageModelSingleLayer import ImageModelSingleLayer\n",
    "from ImageTextModelFusion import ImageTextModelFusion\n",
    "from TextEmbeddingModelFusion import TextEmbeddingModelFusion\n",
    "from ImageTextEmbeddingModelFusion import ImageTextEmbeddingModelFusion\n",
    "\n",
    "from image_preprocess import get_image_name, text_from_images_in_folder\n",
    "\n",
    "import plotly.express as px\n",
    "\n",
    "\n",
    "import warnings\n",
    "warnings.filterwarnings('ignore')\n",
    "\n",
    "tf.config.set_visible_devices([], 'GPU')\n",
    "\n",
    "DATA_DIR='data/resized_images'\n",
    "TRAIN_TEST_DIR = 'data/output_resized/'\n",
    "LABELS=['easy', 'hard']\n",
    "\n",
    "IMG_SIZE = 512"
   ]
  },
  {
   "cell_type": "markdown",
   "id": "5bd8002a",
   "metadata": {},
   "source": [
    "## Definice vstupů pro jednotlivé modely\n",
    "Každý model využívá jiná data - text, obrázky a jejich embedding, podle toho jsou vytvořeny jednotlivé vstupy."
   ]
  },
  {
   "cell_type": "code",
   "execution_count": null,
   "id": "25b07eb9",
   "metadata": {},
   "outputs": [],
   "source": [
    "with open(\"data/extracted_texts.json\") as f:\n",
    "    texts=json.load(f)"
   ]
  },
  {
   "cell_type": "code",
   "execution_count": null,
   "id": "5b1e884f",
   "metadata": {},
   "outputs": [],
   "source": [
    "'''\n",
    "využívá předem extrahované texty z preprocesingu v Image Preprocessing.ipynb,\n",
    "tato funkce je použita pro vytvoření trénovací a validační sady\n",
    "'''\n",
    "def create_dataset_from_folder(source_dir, texts):\n",
    "    txt=[]\n",
    "    images=[]\n",
    "    target_label=[]\n",
    "    img_names=[]\n",
    "    for label in range(len(LABELS)):\n",
    "        for image in os.listdir(source_dir+'/'+LABELS[label]):\n",
    "            name, _=get_image_name(image)\n",
    "            images.append(np.array(Image.open(source_dir+'/'+LABELS[label]+\"/\"+image).convert(\"RGB\")))\n",
    "            txt.append(texts[name])\n",
    "            target_label.append(label)\n",
    "            img_names.append(image)\n",
    "    n_txt=np.array(txt)\n",
    "    n_lbl=np.array(target_label)\n",
    "    return images, n_txt, n_lbl, img_names"
   ]
  },
  {
   "cell_type": "code",
   "execution_count": null,
   "id": "239d1064",
   "metadata": {},
   "outputs": [],
   "source": [
    "'''\n",
    "pro ohodnocení jednoho obrázku je třeba ho vložit do samostatné složky a tu poskytnout jako source_dir\n",
    "'''\n",
    "def create_dataset_from_folder_one_image(source_dir):\n",
    "    txt=['', '']\n",
    "    images=[]\n",
    "    target_label=[]\n",
    "    img_names=[]\n",
    "    for image in os.listdir(source_dir):\n",
    "        print(image)\n",
    "        i.resize((IMG_SIZE, IMG_SIZE)).convert(\"RGB\")\n",
    "        images.append(np.array(resized_image))\n",
    "    n_txt=np.array(txt)\n",
    "    return images, n_txt"
   ]
  },
  {
   "cell_type": "code",
   "execution_count": null,
   "id": "736e99fd",
   "metadata": {},
   "outputs": [],
   "source": [
    "source_dir=TRAIN_TEST_DIR+'train'\n",
    "tr_img, tr_txt, tr_lbl, tr_image_names= create_dataset_from_folder(source_dir, texts)\n",
    "\n",
    "source_dir=TRAIN_TEST_DIR+'/val'\n",
    "val_img, val_txt, val_lbl, val_image_names = create_dataset_from_folder(source_dir, texts)\n",
    "\n",
    "tr_embedd=np.load(\"data/saved/train_embedds.npy\")\n",
    "val_embedd=np.load(\"data/saved/val_embedds.npy\")"
   ]
  },
  {
   "cell_type": "markdown",
   "id": "94c3f147",
   "metadata": {},
   "source": [
    "### Získání predikce obtížnosti obrázků\n",
    "\n",
    "*embedds.npy jsou soubory s embeddingy obrázků vytvořené modelem v Image Embedding - Torch.ipynb\n",
    "\n",
    "získané embeddingy jsou spolu se zbytkem vstupních dat převedeny na tesory a předloženy modelu"
   ]
  },
  {
   "cell_type": "raw",
   "id": "f0b40fb2",
   "metadata": {},
   "source": [
    "# pro ohodnocení jednoho obrázku je třeba ho vložit do samostatné složky data/generated_one_imgs\n",
    "test_embedd=np.load(\"data/saved/embedds.npy\")\n",
    "test_images, test_txt=create_dataset_from_folder_one_image('data/generated_one_imgs')"
   ]
  },
  {
   "cell_type": "code",
   "execution_count": null,
   "id": "5ea3b2ed",
   "metadata": {},
   "outputs": [],
   "source": [
    "tr_lbl_tf=tf.one_hot(tr_lbl,2)\n",
    "val_lbl_tf=tf.one_hot(val_lbl,2)"
   ]
  },
  {
   "cell_type": "code",
   "execution_count": null,
   "id": "ae74cf9b",
   "metadata": {},
   "outputs": [],
   "source": [
    "tr_img=tf.convert_to_tensor(tr_img)\n",
    "val_img=tf.convert_to_tensor(val_img)\n",
    "\n",
    "tr_embedd=tr_embedd.reshape((-1, 10240))\n",
    "tr_embedd=tf.convert_to_tensor(tr_embedd)\n",
    "\n",
    "val_embedd=val_embedd.reshape((-1, 10240))\n",
    "val_embedd=tf.convert_to_tensor(val_embedd)"
   ]
  },
  {
   "cell_type": "code",
   "execution_count": null,
   "id": "b99e507e",
   "metadata": {},
   "outputs": [],
   "source": [
    "x_train_txt_img=[tr_txt, tr_img]\n",
    "y_train=tr_lbl_tf\n",
    "\n",
    "x_val_txt_img=[val_txt, val_img]\n",
    "y_val=val_lbl_tf"
   ]
  },
  {
   "cell_type": "code",
   "execution_count": null,
   "id": "7dc2eb36",
   "metadata": {},
   "outputs": [],
   "source": [
    "x_train_txt_img_embedd=[tr_txt, tr_img, tr_embedd]\n",
    "x_val_txt_img_embedd=[val_txt, val_img, val_embedd]"
   ]
  },
  {
   "cell_type": "code",
   "execution_count": null,
   "id": "bc4cd71d",
   "metadata": {},
   "outputs": [],
   "source": [
    "x_train_txt_embedd=[tr_txt, tr_embedd]\n",
    "x_val_txt_embedd=[val_txt, val_embedd]"
   ]
  },
  {
   "cell_type": "markdown",
   "id": "909160a5",
   "metadata": {},
   "source": [
    "### Matice záměn"
   ]
  },
  {
   "cell_type": "code",
   "execution_count": null,
   "id": "b19be6b0",
   "metadata": {},
   "outputs": [],
   "source": [
    "def make_confusion_matrix(target_y, predicted_y):\n",
    "    binary_predictions=(predicted_y>0.5).astype(dtype=\"float32\")\n",
    "    target_y = list(map(lambda x: x[1], target_y))\n",
    "    predicted_y = list(map(lambda x: x[1], binary_predictions))\n",
    "    \n",
    "    labels = ['lehká', 'těžká']\n",
    "    cm=confusion_matrix(target_y, predicted_y)\n",
    "    plot_confusion_matrix(cm, labels, title=\"\", normalize=False)"
   ]
  },
  {
   "cell_type": "code",
   "execution_count": null,
   "id": "0f1a7790",
   "metadata": {},
   "outputs": [],
   "source": [
    "def plot_confusion_matrix(cm,\n",
    "                          target_names,\n",
    "                          title='Confusion matrix',\n",
    "                          cmap=None,\n",
    "                          normalize=True):\n",
    "    \"\"\"\n",
    "    given a sklearn confusion matrix (cm), make a nice plot\n",
    "\n",
    "    Arguments\n",
    "    ---------\n",
    "    cm:           confusion matrix from sklearn.metrics.confusion_matrix\n",
    "\n",
    "    target_names: given classification classes such as [0, 1, 2]\n",
    "                  the class names, for example: ['high', 'medium', 'low']\n",
    "\n",
    "    title:        the text to display at the top of the matrix\n",
    "\n",
    "    cmap:         the gradient of the values displayed from matplotlib.pyplot.cm\n",
    "                  see http://matplotlib.org/examples/color/colormaps_reference.html\n",
    "                  plt.get_cmap('jet') or plt.cm.Blues\n",
    "\n",
    "    normalize:    If False, plot the raw numbers\n",
    "                  If True, plot the proportions\n",
    "\n",
    "    Usage\n",
    "    -----\n",
    "    plot_confusion_matrix(cm           = cm,                  # confusion matrix created by\n",
    "                                                              # sklearn.metrics.confusion_matrix\n",
    "                          normalize    = True,                # show proportions\n",
    "                          target_names = y_labels_vals,       # list of names of the classes\n",
    "                          title        = best_estimator_name) # title of graph\n",
    "\n",
    "    Citiation\n",
    "    ---------\n",
    "    http://scikit-learn.org/stable/auto_examples/model_selection/plot_confusion_matrix.html\n",
    "\n",
    "    \"\"\"\n",
    "    import matplotlib.pyplot as plt\n",
    "    import numpy as np\n",
    "    import itertools\n",
    "\n",
    "    accuracy = np.trace(cm) / np.sum(cm).astype('float')\n",
    "    misclass = 1 - accuracy\n",
    "\n",
    "    if cmap is None:\n",
    "        cmap = plt.get_cmap('Blues')\n",
    "\n",
    "    plt.rcParams.update({'font.size': 18})\n",
    "    plt.figure(figsize=(8, 6))\n",
    "    cax=plt.imshow(cm, interpolation='nearest', cmap=cmap)\n",
    "    plt.title(title)\n",
    "    plt.colorbar()\n",
    "    \n",
    "\n",
    "    if target_names is not None:\n",
    "        tick_marks = np.arange(len(target_names))\n",
    "        plt.xticks(tick_marks, target_names, rotation=45)\n",
    "        plt.yticks(tick_marks, target_names)\n",
    "\n",
    "    if normalize:\n",
    "        cm = cm.astype('float') / cm.sum(axis=1)[:, np.newaxis]\n",
    "\n",
    "\n",
    "    thresh = cm.max() / 1.5 if normalize else cm.max() / 2\n",
    "    for i, j in itertools.product(range(cm.shape[0]), range(cm.shape[1])):\n",
    "        if normalize:\n",
    "            plt.text(j, i, \"{:0.4f}\".format(cm[i, j]),\n",
    "                     horizontalalignment=\"center\",\n",
    "                     color=\"white\" if cm[i, j] > thresh else \"black\")\n",
    "        else:\n",
    "            plt.text(j, i, \"{:,}\".format(cm[i, j]),\n",
    "                     horizontalalignment=\"center\",\n",
    "                     color=\"white\" if cm[i, j] > thresh else \"black\")\n",
    "\n",
    "    plt.rcParams.update({'font.size': 18})\n",
    "    plt.tight_layout()\n",
    "    plt.ylabel('Reálná obtížnost')\n",
    "    plt.xlabel('Predikovaná obtížnost'.format(accuracy, misclass))\n",
    "    plt.show()"
   ]
  },
  {
   "cell_type": "code",
   "execution_count": null,
   "id": "3935dedd",
   "metadata": {},
   "outputs": [],
   "source": [
    "neg, pos = np.bincount(tr_lbl)\n",
    "total = neg + pos\n",
    "print('Training examples:\\n    Total: {}\\n    Positive: {} ({:.2f}% of total)\\n'.format(\n",
    "    total, pos, 100 * pos / total))\n",
    "initial_bias = np.log([pos/neg])\n",
    "\n",
    "neg, pos = np.bincount(val_lbl)\n",
    "total = neg + pos\n",
    "print('Validation examples:\\n    Total: {}\\n    Positive: {} ({:.2f}% of total)\\n'.format(\n",
    "    total, pos, 100 * pos / total))\n"
   ]
  },
  {
   "cell_type": "markdown",
   "id": "2690626c",
   "metadata": {},
   "source": [
    "### Shrnutí vyzkoušených modelů"
   ]
  },
  {
   "cell_type": "code",
   "execution_count": null,
   "id": "56e68e78",
   "metadata": {},
   "outputs": [],
   "source": [
    "def train_and_eval(nn_model, lang_model, chckpt, x_train, y_train, x_val, y_val, trainable=True, dropout=False, optimizer='adam'):\n",
    "    if lang_model=='bert':\n",
    "        lang_model='bert_multi_cased_L-12_H-768_A-12'    \n",
    "    chckpt_path='./checkpoints/image_model/' + chckpt + '/cp.ckpt'\n",
    "    \n",
    "    if nn_model==0:\n",
    "        my_model=ImageModelSingleLayer(lang_model, IMG_SIZE)\n",
    "    elif nn_model==1:\n",
    "        my_model=ImageTextModelFusion(lang_model, IMG_SIZE, my_trainable=trainable, optimizer=optimizer)\n",
    "    elif nn_model==2:\n",
    "        my_model=TextEmbeddingModelFusion(lang_model, IMG_SIZE, my_trainable=trainable, optimizer=optimizer)\n",
    "    elif nn_model==3:\n",
    "        my_model=ImageTextEmbeddingModelFusion(lang_model, IMG_SIZE, my_trainable=trainable, optimizer=optimizer)\n",
    "            \n",
    "    my_history=my_model.train_model(x_train, y_train, x_val, y_val, chckpt_path)\n",
    "    \n",
    "    my_model.load_weights()\n",
    "    train_pred = my_model.model.predict(x_train)\n",
    "    val_pred = my_model.model.predict(x_val)\n",
    "\n",
    "    print(\"--------- Train cf ---------\")\n",
    "    make_confusion_matrix(y_train, train_pred)\n",
    "\n",
    "    print(\"--------- Val cf ----------\")\n",
    "    make_confusion_matrix(y_val, val_pred)\n",
    "\n",
    "    train_acc=my_model.model.evaluate(x_train, y_train, verbose=0)[1]\n",
    "    val_acc=my_model.model.evaluate(x_val, y_val, verbose=0)[1]\n",
    "\n",
    "    print(train_acc)\n",
    "    print(val_acc)\n",
    "    \n",
    "    return my_history"
   ]
  },
  {
   "cell_type": "code",
   "execution_count": null,
   "id": "9b751a9a",
   "metadata": {
    "scrolled": true
   },
   "outputs": [],
   "source": [
    "train_and_eval(3, 'roberta', 'roberta_img_txt_embedd_train', x_train_txt_img_embedd, y_train, x_val_txt_img_embedd, y_val, trainable=True)"
   ]
  },
  {
   "cell_type": "code",
   "execution_count": null,
   "id": "e8925023",
   "metadata": {
    "scrolled": true
   },
   "outputs": [],
   "source": [
    "'''\n",
    "otestování nejlepší verze modelu - ukládá se checkpoint s nejlepší accuracy\n",
    "'''\n",
    "def evaluate_model(my_model, chckpt_path, x_train, x_val):\n",
    "    my_model.set_checkpoint_path(chckpt_path)\n",
    "    my_model.load_weights()\n",
    "\n",
    "\n",
    "    train_pred = my_model.model.predict(x_train)\n",
    "    val_pred = my_model.model.predict(x_val)\n",
    "\n",
    "\n",
    "    print(\"--------- Train cf ---------\")\n",
    "    make_confusion_matrix(y_train, train_pred)\n",
    "\n",
    "    print(\"--------- Val cf ----------\")\n",
    "    make_confusion_matrix(y_val, val_pred)\n",
    "\n",
    "    train_acc=my_model.model.evaluate(x_train, y_train, verbose=0)[1]\n",
    "    val_acc=my_model.model.evaluate(x_val, y_val, verbose=0)[1]\n",
    "\n",
    "    print(train_acc)\n",
    "    print(val_acc)\n",
    "    return my_model"
   ]
  },
  {
   "cell_type": "code",
   "execution_count": null,
   "id": "ee92d20c",
   "metadata": {},
   "outputs": [],
   "source": [
    "my_model=ImageTextEmbeddingModelFusion('roberta', IMG_SIZE, my_trainable=False, optimizer=\"Adam\")"
   ]
  },
  {
   "cell_type": "code",
   "execution_count": null,
   "id": "afe80ff9",
   "metadata": {
    "scrolled": true
   },
   "outputs": [],
   "source": [
    "chckpt_path='./checkpoints/image_model/roberta_img_txt_embedd_train/cp.ckpt'\n",
    "my_model=evaluate_model(my_model, chckpt_path, x_train_txt_img_embedd, x_val_txt_img_embedd)"
   ]
  }
 ],
 "metadata": {
  "kernelspec": {
   "display_name": "Python 3 (ipykernel)",
   "language": "python",
   "name": "python3"
  },
  "language_info": {
   "codemirror_mode": {
    "name": "ipython",
    "version": 3
   },
   "file_extension": ".py",
   "mimetype": "text/x-python",
   "name": "python",
   "nbconvert_exporter": "python",
   "pygments_lexer": "ipython3",
   "version": "3.8.15"
  }
 },
 "nbformat": 4,
 "nbformat_minor": 5
}
